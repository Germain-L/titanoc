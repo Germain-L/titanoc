{
 "cells": [
  {
   "cell_type": "code",
   "execution_count": 42,
   "metadata": {},
   "outputs": [],
   "source": [
    "import torch\n",
    "import torch.nn as nn\n",
    "import torch.optim as optim\n",
    "from torch.utils.data import DataLoader, TensorDataset\n",
    "import pandas as pd\n",
    "import numpy as np\n",
    "from sklearn.preprocessing import StandardScaler, LabelEncoder\n",
    "from sklearn.model_selection import train_test_split"
   ]
  },
  {
   "cell_type": "markdown",
   "metadata": {},
   "source": [
    "# Check if using GPU"
   ]
  },
  {
   "cell_type": "code",
   "execution_count": 43,
   "metadata": {},
   "outputs": [
    {
     "name": "stdout",
     "output_type": "stream",
     "text": [
      "Using device: cpu\n"
     ]
    }
   ],
   "source": [
    "device = torch.device(\"cuda\" if torch.cuda.is_available() else \"cpu\")\n",
    "print(\"Using device:\", device)"
   ]
  },
  {
   "cell_type": "markdown",
   "metadata": {},
   "source": [
    "# Load the data"
   ]
  },
  {
   "cell_type": "code",
   "execution_count": 44,
   "metadata": {},
   "outputs": [],
   "source": [
    "train_data = pd.read_csv('./train.csv')\n",
    "test_data = pd.read_csv('./test.csv')"
   ]
  },
  {
   "cell_type": "markdown",
   "metadata": {},
   "source": [
    "# Handle missing values"
   ]
  },
  {
   "cell_type": "code",
   "execution_count": 45,
   "metadata": {},
   "outputs": [],
   "source": [
    "# Iterating over train_data and test_data\n",
    "for dataset in [train_data, test_data]:\n",
    "    # Replacing missing 'Age' values with mean age\n",
    "    dataset['Age'] = dataset['Age'].fillna(dataset['Age'].mean())\n",
    "    # Replacing missing 'Embarked' values with 'S'\n",
    "    dataset['Embarked'] = dataset['Embarked'].fillna('S')\n",
    "    # Replacing missing 'Fare' values with mean fare\n",
    "    dataset['Fare'] = dataset['Fare'].fillna(dataset['Fare'].mean())"
   ]
  },
  {
   "cell_type": "code",
   "execution_count": 46,
   "metadata": {},
   "outputs": [],
   "source": [
    "for column in ['Sex', 'Embarked']:\n",
    "    le = LabelEncoder()\n",
    "    # Encoding 'Sex' and 'Embarked' columns in train_data\n",
    "    train_data[column] = le.fit_transform(train_data[column])\n",
    "    # Encoding 'Sex' and 'Embarked' columns in test_data\n",
    "    test_data[column] = le.transform(test_data[column])"
   ]
  },
  {
   "cell_type": "code",
   "execution_count": 47,
   "metadata": {},
   "outputs": [],
   "source": [
    "scaler = StandardScaler()\n",
    "\n",
    "# Features to be scaled\n",
    "features = ['Pclass', 'Sex', 'Age', 'SibSp', 'Parch', 'Fare', 'Embarked']\n",
    "\n",
    "# Scaling the features in the train_data\n",
    "train_data[features] = scaler.fit_transform(train_data[features])\n",
    "test_data[features] = scaler.transform(test_data[features])"
   ]
  },
  {
   "cell_type": "code",
   "execution_count": 48,
   "metadata": {},
   "outputs": [],
   "source": [
    "# Creating the test and train features and labels\n",
    "train_features, val_features, train_labels, val_labels = train_test_split(\n",
    "    train_data[features], train_data['Survived'], test_size=0.2, random_state=42)"
   ]
  },
  {
   "cell_type": "code",
   "execution_count": 49,
   "metadata": {},
   "outputs": [],
   "source": [
    "# Converting the test and train features and labels to tensors\n",
    "X_train = torch.tensor(train_features.values, dtype=torch.float32).to(device)\n",
    "y_train = torch.tensor(train_labels.values, dtype=torch.long).to(device)\n",
    "X_val = torch.tensor(val_features.values, dtype=torch.float32).to(device)\n",
    "y_val = torch.tensor(val_labels.values, dtype=torch.long).to(device)\n",
    "X_test = torch.tensor(test_data[features].values, dtype=torch.float32).to(device)"
   ]
  },
  {
   "cell_type": "code",
   "execution_count": 50,
   "metadata": {},
   "outputs": [],
   "source": [
    "# class defining a neural network architecture for the Titanic dataset.\n",
    "class TitanicNN(nn.Module):\n",
    "    def __init__(self):\n",
    "        super(TitanicNN, self).__init__()\n",
    "        self.layer1 = nn.Linear(7, 128)\n",
    "        self.batchnorm1 = nn.BatchNorm1d(128)\n",
    "        self.relu = nn.ReLU()\n",
    "        self.dropout = nn.Dropout(0.3)\n",
    "        self.layer2 = nn.Linear(128, 64)\n",
    "        self.batchnorm2 = nn.BatchNorm1d(64)\n",
    "        self.layer3 = nn.Linear(64, 2)\n",
    "\n",
    "    def forward(self, x):\n",
    "        x = self.relu(self.batchnorm1(self.layer1(x)))\n",
    "        x = self.dropout(x)\n",
    "        x = self.relu(self.batchnorm2(self.layer2(x)))\n",
    "        x = self.layer3(x)\n",
    "        return x"
   ]
  },
  {
   "cell_type": "code",
   "execution_count": 51,
   "metadata": {},
   "outputs": [],
   "source": [
    "# Instantiating the model\n",
    "model = TitanicNN().to(device)"
   ]
  },
  {
   "cell_type": "code",
   "execution_count": 52,
   "metadata": {},
   "outputs": [],
   "source": [
    "# Defining the loss function, optimizer and the learning rate scheduler\n",
    "criterion = nn.CrossEntropyLoss()\n",
    "optimizer = optim.Adam(model.parameters(), lr=0.001)\n",
    "scheduler = optim.lr_scheduler.StepLR(optimizer, step_size=10, gamma=0.1)\n",
    "train_loader = DataLoader(TensorDataset(X_train, y_train), batch_size=64, shuffle=True)"
   ]
  },
  {
   "cell_type": "code",
   "execution_count": 53,
   "metadata": {},
   "outputs": [
    {
     "name": "stdout",
     "output_type": "stream",
     "text": [
      "Epoch 1, Loss: 0.39830541610717773, Val Loss: 0.5301528573036194, Accuracy: 0.7988826815642458\n",
      "Epoch 2, Loss: 0.18742170929908752, Val Loss: 0.4458670914173126, Accuracy: 0.8044692737430168\n",
      "Epoch 3, Loss: 0.4174325466156006, Val Loss: 0.4316645860671997, Accuracy: 0.8100558659217877\n",
      "Epoch 4, Loss: 0.5852821469306946, Val Loss: 0.43834570050239563, Accuracy: 0.8100558659217877\n",
      "Epoch 5, Loss: 0.34291788935661316, Val Loss: 0.44592708349227905, Accuracy: 0.8212290502793296\n",
      "Epoch 6, Loss: 0.8217055201530457, Val Loss: 0.4389728605747223, Accuracy: 0.8156424581005587\n",
      "Epoch 7, Loss: 0.5643500089645386, Val Loss: 0.4407312273979187, Accuracy: 0.8100558659217877\n",
      "Epoch 8, Loss: 0.24520249664783478, Val Loss: 0.44080424308776855, Accuracy: 0.8100558659217877\n",
      "Epoch 9, Loss: 0.545654833316803, Val Loss: 0.43657800555229187, Accuracy: 0.8156424581005587\n",
      "Epoch 10, Loss: 0.593424916267395, Val Loss: 0.4440881609916687, Accuracy: 0.8156424581005587\n",
      "Training complete.\n"
     ]
    }
   ],
   "source": [
    "# Training the model\n",
    "epochs = 10\n",
    "for epoch in range(epochs):\n",
    "    model.train()\n",
    "    for data, target in train_loader:\n",
    "        # Move the data and target to device\n",
    "        data, target = data.to(device), target.to(device)\n",
    "        optimizer.zero_grad()\n",
    "        output = model(data)\n",
    "        loss = criterion(output, target)\n",
    "        loss.backward()\n",
    "        optimizer.step()\n",
    "    \n",
    "    scheduler.step()\n",
    "    model.eval()\n",
    "    with torch.no_grad():\n",
    "        outputs = model(X_val)\n",
    "        val_loss = criterion(outputs, y_val)\n",
    "        _, predicted = torch.max(outputs, 1)\n",
    "        correct = (predicted == y_val).sum().item()\n",
    "        accuracy = correct / len(y_val)\n",
    "\n",
    "    print(f'Epoch {epoch+1}, Loss: {loss.item()}, Val Loss: {val_loss.item()}, Accuracy: {accuracy}')\n",
    "\n",
    "print(\"Training complete.\")"
   ]
  },
  {
   "cell_type": "code",
   "execution_count": 54,
   "metadata": {},
   "outputs": [],
   "source": [
    "model.eval()\n",
    "with torch.no_grad():\n",
    "    outputs = model(X_test)\n",
    "    _, predictions = torch.max(outputs, 1)"
   ]
  },
  {
   "cell_type": "code",
   "execution_count": 55,
   "metadata": {},
   "outputs": [],
   "source": [
    "test_data = pd.read_csv('./test.csv')\n",
    "submission = pd.DataFrame({\n",
    "    \"PassengerId\": test_data['PassengerId'],\n",
    "    \"Survived\": predictions.cpu().numpy()\n",
    "})\n",
    "submission.to_csv('./submission.csv', index=False)"
   ]
  },
  {
   "cell_type": "code",
   "execution_count": 56,
   "metadata": {},
   "outputs": [
    {
     "name": "stdout",
     "output_type": "stream",
     "text": [
      "Validation Accuracy: 0.82%\n"
     ]
    }
   ],
   "source": [
    "print(f'Validation Accuracy: {accuracy:.2f}%')"
   ]
  }
 ],
 "metadata": {
  "kernelspec": {
   "display_name": "venv",
   "language": "python",
   "name": "python3"
  },
  "language_info": {
   "codemirror_mode": {
    "name": "ipython",
    "version": 3
   },
   "file_extension": ".py",
   "mimetype": "text/x-python",
   "name": "python",
   "nbconvert_exporter": "python",
   "pygments_lexer": "ipython3",
   "version": "3.12.0"
  }
 },
 "nbformat": 4,
 "nbformat_minor": 2
}
